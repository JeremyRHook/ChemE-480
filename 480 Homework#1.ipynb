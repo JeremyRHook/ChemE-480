{
 "cells": [
  {
   "cell_type": "code",
   "execution_count": 1,
   "metadata": {},
   "outputs": [],
   "source": [
    "# 480 Homework #1"
   ]
  },
  {
   "cell_type": "code",
   "execution_count": 2,
   "metadata": {},
   "outputs": [],
   "source": [
    "import numpy as np\n",
    "import matplotlib.pyplot as plt"
   ]
  },
  {
   "cell_type": "markdown",
   "metadata": {},
   "source": [
    "Problem 4\n",
    "\n",
    "Consider a CSTR where there is a series of reactions shown below. How well the temperature is controlled can have an impact on theeconomics of the operation. Plot the profit as a function of steady-state reactor temperature (ignoring utilities and other costs)\n"
   ]
  },
  {
   "cell_type": "markdown",
   "metadata": {},
   "source": [
    "A --r1--> B --r2--> C\n",
    "\n",
    "Assume all reactions are 1st order"
   ]
  },
  {
   "cell_type": "code",
   "execution_count": 21,
   "metadata": {},
   "outputs": [],
   "source": [
    "#Rate constants\n",
    "\n",
    "T = np.linspace(200,1000,100) #Kelvin\n",
    "\n",
    "r1 = 3.8604 * 10**6 * np.exp(-5533/T)\n",
    "\n",
    "r2 = 5.8628 * 10**13 * np.exp(-12065/T)\n",
    "\n",
    "#Reactor and feed conditions\n",
    "\n",
    "V =    100 #Volume in liters\n",
    "F =    10  #Volumetric flow rate into reactor in L/s\n",
    "CA0 =  1   #Inlet concentrations in mol/L\n",
    "\n",
    "AF = .15  # A in feed in $/mol\n",
    "AP = .1   # A in product in $/mol (.05$ to separate from product)\n",
    "BP = .6   # B in product in $/mol\n",
    "CP = -.3  # C in product (explain why this could have a negative value)"
   ]
  },
  {
   "cell_type": "code",
   "execution_count": 27,
   "metadata": {},
   "outputs": [],
   "source": [
    "FA = V * r1/F"
   ]
  },
  {
   "cell_type": "markdown",
   "metadata": {},
   "source": [
    "10 L/s * 1 mol/L = 10 mol/s\n",
    "\n",
    "CA0 is reduced from reactions at a rate of -r1*CA \n",
    "\n",
    "CB is created at the same rate but positive r1*CA\n",
    "\n",
    "CB is reduced at the rate of -r2*CB\n",
    "\n",
    "CC is created at the same rate but positive r2*CB\n",
    "\n",
    "Outflow of CSTR must be 10L/s \n",
    "\n",
    "\n",
    "To separate CA from product will increase cost $0.05/mol\n",
    "\n",
    "CA in the product will increase profit $0.10\n",
    "\n",
    "CB in the product will increase profit $0.60/mol\n",
    "\n",
    "CC in the product will decrease profit $0.30/mol\n",
    "\n",
    "\n",
    "\n"
   ]
  },
  {
   "cell_type": "code",
   "execution_count": null,
   "metadata": {},
   "outputs": [],
   "source": []
  }
 ],
 "metadata": {
  "kernelspec": {
   "display_name": "Python 3",
   "language": "python",
   "name": "python3"
  },
  "language_info": {
   "codemirror_mode": {
    "name": "ipython",
    "version": 3
   },
   "file_extension": ".py",
   "mimetype": "text/x-python",
   "name": "python",
   "nbconvert_exporter": "python",
   "pygments_lexer": "ipython3",
   "version": "3.7.4"
  }
 },
 "nbformat": 4,
 "nbformat_minor": 2
}
