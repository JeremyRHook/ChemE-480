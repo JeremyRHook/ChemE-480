{
 "cells": [
  {
   "cell_type": "markdown",
   "metadata": {
    "id": "FXYExnh2Inya"
   },
   "source": [
    "# Lab 3\n",
    "\n",
    "In this lab, you will fit first order plus time delay (FOPTD) and second order plus time delay (SOPTD) models to experimental data using graphical methods."
   ]
  },
  {
   "cell_type": "markdown",
   "metadata": {
    "id": "vaNhBuDzInyb"
   },
   "source": [
    "# Exercise 1\n",
    "\n",
    "The Q1/T1 system can be approximated fairly well by a first-order model. \n",
    "\n",
    "A first-order model of the Temperature Control Lab has the form:\n",
    "\n",
    "$$\\tau_p \\frac{dT'}{dt} = -T' + K_pQ'(t - \\theta_p) $$\n",
    "\n",
    "where $T' = T - T_{ss}$ and $Q'=Q - Q_{ss}$ are deviation variables with steady-state initial conditions. Perform a step test with heater 1 starting at 0% for 5 minutes and then step the heater up to 70% for 7.5 minutes. Create a plot of the temperature response over 8 minutes that also shows the heater level (%). \n",
    "\n",
    "You may use the sample source code in `fotd.py` as a starting point.\n",
    "\n"
   ]
  },
  {
   "cell_type": "markdown",
   "metadata": {
    "id": "i_e5b3W3Inyc"
   },
   "source": [
    "Step test data are convenient for identifying a FOPTD model through a graphical fitting method. Create an interactive plot with the `ipywidgets` to vary the process gain, time constant, and time delay until you find a good fit.\n",
    "\n",
    "After you have found the model parameters, use the formal graphical method for determining the model parameters:\n",
    "\n",
    "1. Find $\\Delta y$ from step response.\n",
    "2. Find $\\Delta u$ from step response.\n",
    "3. Calculate $K_p = \\frac{\\Delta y}{\\Delta u}$\n",
    "4. Find $\\theta$, apparent dead time, from step response\n",
    "5. Find $0.632\\Delta y$ from step response\n",
    "6. Find $t_{0.632}$ for $y(t_{0.632})=0.632\\Delta y$ from step response\n",
    "7. Calculate $\\tau = t_{0.632} - \\theta$. This assumes the step starts at $t=0$. If the step happens later, subtract the step time as well.\n",
    "\n",
    "Compare the two."
   ]
  },
  {
   "cell_type": "code",
   "execution_count": 39,
   "metadata": {
    "id": "Wr4Fk-J9KDSI"
   },
   "outputs": [
    {
     "data": {
      "image/png": "[encoded data removed]",
      "text/plain": [
       "<Figure size 432x288 with 2 Axes>"
      ]
     },
     "metadata": {
      "needs_background": "light"
     },
     "output_type": "display_data"
    }
   ],
   "source": [
    "import numpy as np\n",
    "import matplotlib.pyplot as plt\n",
    "from scipy.integrate import odeint\n",
    "from scipy.optimize import minimize\n",
    "from scipy.interpolate import interp1d\n",
    "\n",
    "# define process model (to generate process data)\n",
    "def process(y,t,n,u,Kp,taup):\n",
    "    # arguments\n",
    "    #  y[n] = outputs\n",
    "    #  t    = time\n",
    "    #  n    = order of the system  \n",
    "    #  u    = input value\n",
    "    #  Kp   = process gain\n",
    "    #  taup = process time constant\n",
    "\n",
    "    # equations for higher order system\n",
    "    dydt = np.zeros(n)\n",
    "    # calculate derivative\n",
    "    dydt[0] = (-y[0] + Kp * u)/(taup/n)\n",
    "    for i in range(1,n):\n",
    "       dydt[i] = (-y[i] + y[i-1])/(taup/n)\n",
    "    return dydt\n",
    "\n",
    "# define first-order plus dead-time approximation    \n",
    "def fopdt(y,t,uf,Km,taum,thetam):\n",
    "    # arguments\n",
    "    #  y      = output\n",
    "    #  t      = time\n",
    "    #  uf     = input linear function (for time shift)\n",
    "    #  Km     = model gain\n",
    "    #  taum   = model time constant\n",
    "    #  thetam = model time constant\n",
    "    # time-shift u\n",
    "    try:\n",
    "        if (t-thetam) <= 0:\n",
    "            um = uf(0.0)\n",
    "        else:\n",
    "            um = uf(t-thetam)\n",
    "    except:\n",
    "        #print('Error with time extrapolation: ' + str(t))\n",
    "        um = 0\n",
    "    # calculate derivative\n",
    "    dydt = (-y + Km * um)/taum\n",
    "    return dydt\n",
    "\n",
    "# specify number of steps\n",
    "ns = 40\n",
    "# define time points\n",
    "t = np.linspace(0,16,ns+1)\n",
    "delta_t = t[1]-t[0]\n",
    "# define input vector\n",
    "u = np.zeros(ns+1)\n",
    "u[5:] = 1.0\n",
    "# create linear interpolation of the u data versus time\n",
    "uf = interp1d(t,u)\n",
    "\n",
    "# use this function or replace yp with real process data\n",
    "def sim_process_data():\n",
    "    # higher order process\n",
    "    n=10       # order\n",
    "    Kp=3.0    # gain\n",
    "    taup=5.0   # time constant\n",
    "    # storage for predictions or data\n",
    "    yp = np.zeros(ns+1)  # process\n",
    "    for i in range(1,ns+1):\n",
    "        if i==1:\n",
    "            yp0 = np.zeros(n)\n",
    "        ts = [delta_t*(i-1),delta_t*i]\n",
    "        y = odeint(process,yp0,ts,args=(n,u[i],Kp,taup))\n",
    "        yp0 = y[-1]\n",
    "        yp[i] = y[1][n-1]\n",
    "    return yp\n",
    "yp = sim_process_data()\n",
    "\n",
    "# simulate FOPDT model with x=[Km,taum,thetam]\n",
    "def sim_model(Km,taum,thetam):\n",
    "    # input arguments\n",
    "    #Km\n",
    "    #taum\n",
    "    #thetam\n",
    "    # storage for model values\n",
    "    ym = np.zeros(ns+1)  # model\n",
    "    # initial condition\n",
    "    ym[0] = 0\n",
    "    # loop through time steps    \n",
    "    for i in range(1,ns+1):\n",
    "        ts = [delta_t*(i-1),delta_t*i]\n",
    "        y1 = odeint(fopdt,ym[i-1],ts,args=(uf,Km,taum,thetam))\n",
    "        ym[i] = y1[-1]\n",
    "    return ym    \n",
    "\n",
    "# calculate model with updated parameters\n",
    "Km = 3.5\n",
    "taum = 1.5\n",
    "thetam = 5.0\n",
    "ym = sim_model(Km,taum,thetam)\n",
    "\n",
    "# plot results\n",
    "plt.figure()\n",
    "plt.subplot(2,1,1)\n",
    "plt.plot(t,ym,'r--',linewidth=3,label='Fit FOPDT')\n",
    "plt.plot(t,yp,'kx-',linewidth=2,label='Process Data')\n",
    "plt.ylabel('Output')\n",
    "plt.legend(loc='best')\n",
    "plt.subplot(2,1,2)\n",
    "plt.plot(t,u,'bx-',linewidth=2)\n",
    "plt.plot(t,uf(t),'r--',linewidth=3)\n",
    "plt.legend(['Measured','Interpolated'],loc='best')\n",
    "plt.ylabel('Input Data')\n",
    "plt.show()"
   ]
  },
  {
   "cell_type": "code",
   "execution_count": null,
   "metadata": {},
   "outputs": [],
   "source": []
  },
  {
   "cell_type": "code",
   "execution_count": 27,
   "metadata": {},
   "outputs": [],
   "source": [
    "import ipywidgets as wg\n",
    "from IPython.display import display \n",
    "import numpy as np\n",
    "%matplotlib inline\n",
    "import matplotlib.pyplot as plt"
   ]
  },
  {
   "cell_type": "code",
   "execution_count": 37,
   "metadata": {},
   "outputs": [],
   "source": [
    "def fopdtPlot(K,tau,theta):\n",
    "    n = 100 # time points to plot\n",
    "    t = np.linspace(0,20,100) # create time vector\n",
    "    # create 0 -> 1 step at t=theta\n",
    "    delay = np.empty_like(t)\n",
    "    for i in range(n):\n",
    "        if t[i] < theta:\n",
    "            delay[i] = 0.0\n",
    "        else:\n",
    "            delay[i] = 1.0\n",
    "    # calculate response to step input\n",
    "    x = K * (1.0-np.exp(-(t-theta)/tau))\n",
    "    y = x * delay\n",
    "    \n",
    "    # plot response\n",
    "    plt.figure(1)\n",
    "    plt.plot(t,y,'k-',linewidth=4,label=r'$y(t)=x(t-\\theta)*S(t-\\theta)$')\n",
    "    plt.legend(loc='best')\n",
    "    plt.ylim([-10,10])\n",
    "    plt.xlim([0,20])\n",
    "    \n",
    "    plt.figure(2)\n",
    "    plt.plot(t,x,'r--',linewidth=2,label=r'$x(t-\\theta)=K\\;(1-\\exp(-(t-\\theta)/\\tau))$')\n",
    "    plt.plot(t,delay,'g:',linewidth=2,label=r'$S(t-\\theta)$')\n",
    "    plt.xlabel('time')\n",
    "    plt.legend(loc='best')\n",
    "    plt.ylim([-10,10])\n",
    "    plt.xlim([0,20])"
   ]
  },
  {
   "cell_type": "code",
   "execution_count": 38,
   "metadata": {},
   "outputs": [
    {
     "data": {
      "application/vnd.jupyter.widget-view+json": {
       "model_id": "a511f5936b124d488b7c641aab079324",
       "version_major": 2,
       "version_minor": 0
      },
      "text/plain": [
       "interactive(children=(FloatSlider(value=8.0, description='K', max=10.0, min=-10.0), FloatSlider(value=5.0, des…"
      ]
     },
     "metadata": {},
     "output_type": "display_data"
    },
    {
     "data": {
      "text/plain": [
       "<function __main__.fopdtPlot(K, tau, theta)>"
      ]
     },
     "execution_count": 38,
     "metadata": {},
     "output_type": "execute_result"
    }
   ],
   "source": [
    "K_slide = wg.FloatSlider(value=8.0,min=-10.0,max=10.0,step=0.1)\n",
    "tau_slide = wg.FloatSlider(value=5.0,min=0.1,max=10.0,step=0.1)\n",
    "theta_slide = wg.FloatSlider(value=4.0,min=0.1,max=15.0,step=0.1)\n",
    "wg.interact(fopdtPlot, K=K_slide, tau=tau_slide, theta=theta_slide)"
   ]
  },
  {
   "cell_type": "code",
   "execution_count": 46,
   "metadata": {},
   "outputs": [
    {
     "name": "stdout",
     "output_type": "stream",
     "text": [
      "TCLab version 0.4.9\n",
      "--- Serial Ports ---\n"
     ]
    },
    {
     "ename": "RuntimeError",
     "evalue": "No Arduino device found.",
     "output_type": "error",
     "traceback": [
      "\u001b[1;31m---------------------------------------------------------------------------\u001b[0m",
      "\u001b[1;31mRuntimeError\u001b[0m                              Traceback (most recent call last)",
      "\u001b[1;32m<ipython-input-46-e7abc728243d>\u001b[0m in \u001b[0;36m<module>\u001b[1;34m\u001b[0m\n\u001b[0;32m      5\u001b[0m \u001b[0mn\u001b[0m \u001b[1;33m=\u001b[0m \u001b[1;36m480\u001b[0m  \u001b[1;31m# Number of second time points (8 min)\u001b[0m\u001b[1;33m\u001b[0m\u001b[1;33m\u001b[0m\u001b[0m\n\u001b[0;32m      6\u001b[0m \u001b[0mtm\u001b[0m \u001b[1;33m=\u001b[0m \u001b[0mnp\u001b[0m\u001b[1;33m.\u001b[0m\u001b[0mlinspace\u001b[0m\u001b[1;33m(\u001b[0m\u001b[1;36m0\u001b[0m\u001b[1;33m,\u001b[0m\u001b[0mn\u001b[0m\u001b[1;33m,\u001b[0m\u001b[0mn\u001b[0m\u001b[1;33m+\u001b[0m\u001b[1;36m1\u001b[0m\u001b[1;33m)\u001b[0m \u001b[1;31m# Time values#\u001b[0m\u001b[1;33m\u001b[0m\u001b[1;33m\u001b[0m\u001b[0m\n\u001b[1;32m----> 7\u001b[1;33m \u001b[0mdatalab\u001b[0m \u001b[1;33m=\u001b[0m \u001b[0mtclab\u001b[0m\u001b[1;33m.\u001b[0m\u001b[0mTCLab\u001b[0m\u001b[1;33m(\u001b[0m\u001b[1;33m)\u001b[0m\u001b[1;33m\u001b[0m\u001b[1;33m\u001b[0m\u001b[0m\n\u001b[0m\u001b[0;32m      8\u001b[0m \u001b[0mT1\u001b[0m \u001b[1;33m=\u001b[0m \u001b[1;33m[\u001b[0m\u001b[0mlab\u001b[0m\u001b[1;33m.\u001b[0m\u001b[0mT1\u001b[0m\u001b[1;33m]\u001b[0m\u001b[1;33m\u001b[0m\u001b[1;33m\u001b[0m\u001b[0m\n\u001b[0;32m      9\u001b[0m \u001b[0mT2\u001b[0m \u001b[1;33m=\u001b[0m \u001b[1;33m[\u001b[0m\u001b[0mlab\u001b[0m\u001b[1;33m.\u001b[0m\u001b[0mT2\u001b[0m\u001b[1;33m]\u001b[0m\u001b[1;33m\u001b[0m\u001b[1;33m\u001b[0m\u001b[0m\n",
      "\u001b[1;32m~\\Anaconda3\\lib\\site-packages\\tclab\\tclab.py\u001b[0m in \u001b[0;36m__init__\u001b[1;34m(self, port, debug)\u001b[0m\n\u001b[0;32m     59\u001b[0m         \u001b[0mself\u001b[0m\u001b[1;33m.\u001b[0m\u001b[0mport\u001b[0m\u001b[1;33m,\u001b[0m \u001b[0mself\u001b[0m\u001b[1;33m.\u001b[0m\u001b[0marduino\u001b[0m \u001b[1;33m=\u001b[0m \u001b[0mfind_arduino\u001b[0m\u001b[1;33m(\u001b[0m\u001b[0mport\u001b[0m\u001b[1;33m)\u001b[0m\u001b[1;33m\u001b[0m\u001b[1;33m\u001b[0m\u001b[0m\n\u001b[0;32m     60\u001b[0m         \u001b[1;32mif\u001b[0m \u001b[0mself\u001b[0m\u001b[1;33m.\u001b[0m\u001b[0mport\u001b[0m \u001b[1;32mis\u001b[0m \u001b[1;32mNone\u001b[0m\u001b[1;33m:\u001b[0m\u001b[1;33m\u001b[0m\u001b[1;33m\u001b[0m\u001b[0m\n\u001b[1;32m---> 61\u001b[1;33m             \u001b[1;32mraise\u001b[0m \u001b[0mRuntimeError\u001b[0m\u001b[1;33m(\u001b[0m\u001b[1;34m'No Arduino device found.'\u001b[0m\u001b[1;33m)\u001b[0m\u001b[1;33m\u001b[0m\u001b[1;33m\u001b[0m\u001b[0m\n\u001b[0m\u001b[0;32m     62\u001b[0m \u001b[1;33m\u001b[0m\u001b[0m\n\u001b[0;32m     63\u001b[0m         \u001b[1;32mtry\u001b[0m\u001b[1;33m:\u001b[0m\u001b[1;33m\u001b[0m\u001b[1;33m\u001b[0m\u001b[0m\n",
      "\u001b[1;31mRuntimeError\u001b[0m: No Arduino device found."
     ]
    }
   ],
   "source": [
    "import numpy as np\n",
    "import matplotlib.pyplot as plt\n",
    "import tclab\n",
    "import time\n",
    "n = 480  # Number of second time points (8 min)\n",
    "tm = np.linspace(0,n,n+1) # Time values# \n",
    "datalab = tclab.TCLab()\n",
    "T1 = [lab.T1]\n",
    "T2 = [lab.T2]\n",
    "Q1 = np.zeros(n+1)\n",
    "Q2 = np.zeros(n+1)\n",
    "Q1[30:] = 70.0# Create Figure\n",
    "plt.figure(figsize=(12,8))\n",
    "plt.ion()\n",
    "plt.show()\n",
    "for i in range(n):    \n",
    "    lab.Q1(Q1[i])    \n",
    "    time.sleep(1)    \n",
    "    print(lab.T1)    \n",
    "    T1.append(lab.T1)    \n",
    "    T2.append(lab.T2)    \n",
    "    plt.clf()    \n",
    "    ax = plt.subplot(2,1,1)    \n",
    "    ax.grid()    \n",
    "    plt.plot(tm[0:i]/60.0,T1[0:i],'r.',label=r'$T_1$')    \n",
    "    plt.plot(tm[0:i]/60.0,T2[0:i],'b.',label=r'$T_2$')    \n",
    "    plt.ylabel(r'Temp ($^oC$)')    \n",
    "    plt.legend()    \n",
    "    ax = plt.subplot(2,1,2)    \n",
    "    ax.grid()    \n",
    "    plt.plot(tm[0:i]/60.0,Q1[0:i],'b-',label=r'$Q_1$')    \n",
    "    plt.ylabel(r'Heater (%)')    \n",
    "    plt.xlabel('Time (min)')    \n",
    "    plt.legend()    \n",
    "    #plt.savefig('Step_Response.png')    \n",
    "    #plt.show()    \n",
    "plt.draw()    \n",
    "plt.pause(0.05)\n",
    "plt.savefig('Step_Response.png')\n",
    "lab.close()\n",
    "def save_txt(t, u1, u2, y1, y2):    \n",
    "    data = np.vstack((t, u1, u2, y1, y2))  # vertical stack    \n",
    "    data = data.T  # transpose data    \n",
    "    top = ('Time,Q1,Q2,T1,T2')    \n",
    "    np.savetxt('foptd.txt', data, delimiter=',',\\\n",
    "               header=top, comments='')\n",
    "    \n",
    "save_txt(tm,Q1,Q2,T1,T2)"
   ]
  },
  {
   "cell_type": "markdown",
   "metadata": {
    "id": "kTNzSNAhInys"
   },
   "source": [
    "# Exercise 2\n",
    "\n",
    "The Q1/T2 system is better approximated as a second-order system.\n",
    "\n",
    "A second-order model of the Temperature Control Lab has the form:\n",
    "\n",
    "$$\\tau_1 \\tau_2 \\frac{d^2T'}{dt^2} + (\\tau_1 + \\tau_2)\\frac{dT'}{dt} = -T' + K_pQ'(t - \\theta_p) $$\n",
    "\n",
    "Using the step test data from above, create an interactive plot using `ipywidgets` to manually vary the model parameters until you obtain a good fit.\n",
    "\n",
    "Use Smith's method (in section 7.2.1 of Seborg) to determine the two time constants for the second order model. Compare to the values you found manually."
   ]
  },
  {
   "cell_type": "code",
   "execution_count": 42,
   "metadata": {
    "id": "ksk0yjgqKGw2"
   },
   "outputs": [
    {
     "name": "stdout",
     "output_type": "stream",
     "text": [
      "Initial SSE Objective: 44.24242106770752\n",
      "Final SSE Objective: 0.029303718249964816\n",
      "Kp: 2.9875337217300886\n",
      "taup: 1.5126317229944388\n",
      "zeta: 0.8367124481978763\n",
      "thetap: 2.0478014034524623\n"
     ]
    },
    {
     "data": {
      "image/png": "[encoded data removed]",
      "text/plain": [
       "<Figure size 432x288 with 2 Axes>"
      ]
     },
     "metadata": {
      "needs_background": "light"
     },
     "output_type": "display_data"
    }
   ],
   "source": [
    "import numpy as np\n",
    "import pandas as pd\n",
    "import matplotlib.pyplot as plt\n",
    "from scipy.integrate import odeint\n",
    "from scipy.optimize import minimize\n",
    "from scipy.interpolate import interp1d\n",
    "import warnings\n",
    "\n",
    "# Import CSV data file\n",
    "# Column 1 = time (t)\n",
    "# Column 2 = input (u)\n",
    "# Column 3 = output (yp)\n",
    "url = 'http://apmonitor.com/pdc/uploads/Main/data_fopdt.txt'\n",
    "data = pd.read_csv(url)\n",
    "t = data['time'].values - data['time'].values[0]\n",
    "u = data['u'].values\n",
    "yp = data['y'].values\n",
    "u0 = u[0]\n",
    "y0 = yp[0]\n",
    "xp0 = yp[0]\n",
    "\n",
    "# specify number of steps\n",
    "ns = len(t)\n",
    "delta_t = t[1]-t[0]\n",
    "# create linear interpolation of the u data versus time\n",
    "uf = interp1d(t,u)\n",
    "\n",
    "def sopdt(x,t,uf,Kp,taus,zeta,thetap):\n",
    "    # Kp = process gain\n",
    "    # taus = second order time constant\n",
    "    # zeta = damping factor\n",
    "    # thetap = model time delay\n",
    "    # ts^2 dy2/dt2 + 2 zeta taus dydt + y = Kp u(t-thetap)\n",
    "    # time-shift u\n",
    "    try:\n",
    "        if (t-thetap) <= 0:\n",
    "            um = uf(0.0)\n",
    "        else:\n",
    "            um = uf(t-thetap)\n",
    "    except:\n",
    "        # catch any error\n",
    "        um = u0\n",
    "    # two states (y and y')\n",
    "    y = x[0] - y0\n",
    "    dydt = x[1]\n",
    "    dy2dt2 = (-2.0*zeta*taus*dydt - y + Kp*(um-u0))/taus**2\n",
    "    return [dydt,dy2dt2]\n",
    "\n",
    "# simulate model with x=[Km,taum,thetam]\n",
    "def sim_model(x):\n",
    "    # input arguments\n",
    "    Kp = x[0]\n",
    "    taus = x[1]\n",
    "    zeta = x[2]\n",
    "    thetap = x[3]\n",
    "    # storage for model values\n",
    "    xm = np.zeros((ns,2))  # model\n",
    "    # initial condition\n",
    "    xm[0] = xp0\n",
    "    # loop through time steps    \n",
    "    for i in range(0,ns-1):\n",
    "        ts = [t[i],t[i+1]]\n",
    "        inputs = (uf,Kp,taus,zeta,thetap)\n",
    "        # turn off warnings\n",
    "        with warnings.catch_warnings():\n",
    "            warnings.simplefilter(\"ignore\")\n",
    "            # integrate SOPDT model\n",
    "            x = odeint(sopdt,xm[i],ts,args=inputs)\n",
    "        xm[i+1] = x[-1]\n",
    "    y = xm[:,0]\n",
    "    return y\n",
    "\n",
    "# define objective\n",
    "def objective(x):\n",
    "    # simulate model\n",
    "    ym = sim_model(x)\n",
    "    # calculate objective\n",
    "    obj = 0.0\n",
    "    for i in range(len(ym)):\n",
    "        obj = obj + (ym[i]-yp[i])**2    \n",
    "    # return result\n",
    "    return obj\n",
    "\n",
    "# initial guesses\n",
    "p0 = np.zeros(4)\n",
    "p0[0] = 3 # Kp\n",
    "p0[1] = 5.0 # taup\n",
    "p0[2] = 1.0 # zeta\n",
    "p0[3] = 2.0 # thetap\n",
    "\n",
    "# show initial objective\n",
    "print('Initial SSE Objective: ' + str(objective(p0)))\n",
    "\n",
    "# optimize Kp, taus, zeta, thetap\n",
    "solution = minimize(objective,p0)\n",
    "\n",
    "# with bounds on variables\n",
    "#no_bnd = (-1.0e10, 1.0e10)\n",
    "#low_bnd = (0.01, 1.0e10)\n",
    "#bnds = (no_bnd, low_bnd, low_bnd, low_bnd)\n",
    "#solution = minimize(objective,p0,method='SLSQP',bounds=bnds)\n",
    "\n",
    "p = solution.x\n",
    "\n",
    "# show final objective\n",
    "print('Final SSE Objective: ' + str(objective(p)))\n",
    "\n",
    "print('Kp: ' + str(p[0]))\n",
    "print('taup: ' + str(p[1]))\n",
    "print('zeta: ' + str(p[2]))\n",
    "print('thetap: ' + str(p[3]))\n",
    "\n",
    "# calculate model with updated parameters\n",
    "ym1 = sim_model(p0)\n",
    "ym2 = sim_model(p)\n",
    "# plot results\n",
    "plt.figure()\n",
    "plt.subplot(2,1,1)\n",
    "plt.plot(t,ym1,'b-',linewidth=2,label='Initial Guess')\n",
    "plt.plot(t,ym2,'r--',linewidth=3,label='Optimized SOPDT')\n",
    "plt.plot(t,yp,'k--',linewidth=2,label='Process Data')\n",
    "plt.ylabel('Output')\n",
    "plt.legend(loc='best')\n",
    "plt.subplot(2,1,2)\n",
    "plt.plot(t,u,'bx-',linewidth=2)\n",
    "plt.plot(t,uf(t),'r--',linewidth=3)\n",
    "plt.legend(['Measured','Interpolated'],loc='best')\n",
    "plt.ylabel('Input Data')\n",
    "plt.savefig('results.png')\n",
    "plt.show()"
   ]
  },
  {
   "cell_type": "code",
   "execution_count": null,
   "metadata": {
    "id": "b8MtxcXvKG0S"
   },
   "outputs": [],
   "source": []
  },
  {
   "cell_type": "code",
   "execution_count": null,
   "metadata": {
    "id": "5040JkiIKG5O"
   },
   "outputs": [],
   "source": []
  },
  {
   "cell_type": "markdown",
   "metadata": {
    "id": "WBidYhtlInzR"
   },
   "source": [
    "# Exercise 3\n",
    "\n",
    "Repeat Exercises 1 and 2 with the Q2/T2 and Q2/T1 systems."
   ]
  },
  {
   "cell_type": "code",
   "execution_count": null,
   "metadata": {
    "id": "4WWGDhiZInzR"
   },
   "outputs": [],
   "source": []
  },
  {
   "cell_type": "code",
   "execution_count": null,
   "metadata": {
    "id": "bwSNkHLAKHpD"
   },
   "outputs": [],
   "source": []
  },
  {
   "cell_type": "code",
   "execution_count": null,
   "metadata": {
    "id": "KjbEYpOqKHr-"
   },
   "outputs": [],
   "source": []
  }
 ],
 "metadata": {
  "colab": {
   "collapsed_sections": [],
   "name": "Lab3.ipynb",
   "provenance": []
  },
  "kernelspec": {
   "display_name": "Python 3",
   "language": "python",
   "name": "python3"
  },
  "language_info": {
   "codemirror_mode": {
    "name": "ipython",
    "version": 3
   },
   "file_extension": ".py",
   "mimetype": "text/x-python",
   "name": "python",
   "nbconvert_exporter": "python",
   "pygments_lexer": "ipython3",
   "version": "3.7.4"
  }
 },
 "nbformat": 4,
 "nbformat_minor": 1
}
