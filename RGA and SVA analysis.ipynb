{
 "cells": [
  {
   "cell_type": "markdown",
   "metadata": {},
   "source": [
    "Problem 5 (RGA & SVD, 2pts)\n",
    "\n",
    "SEMD 18.22\n",
    "\n",
    "A rapid thermal processing system for microelectronics manufacturing uses three concentric lamp heater arrays to keep thewafer temperature uniform. The gain matrix for the system is\n",
    "\n",
    "K=⎡3.38, 2.50, 0.953\n",
    "\n",
    "3.20, 2.38, 0.986\n",
    "\n",
    "3.13, 2.33, 1.054⎦\n",
    "\n",
    "The system experiences diculties in controlling all three temperatures uniformly. Examine possible control diffculties using RGA, the determinate of K, and SVA analyses.\n",
    "\n",
    "You may use some starter code to perform the RGA and SVA analysis in python"
   ]
  },
  {
   "cell_type": "code",
   "execution_count": 4,
   "metadata": {},
   "outputs": [
    {
     "name": "stdout",
     "output_type": "stream",
     "text": [
      "The Derminant of K will = 0.003392999999999805\n",
      "The Condition Number will = 1799.0\n"
     ]
    }
   ],
   "source": [
    "import numpy as np\n",
    "\n",
    "# The K matrix\n",
    "K = np.matrix([[3.38, 2.50, 0.953],\n",
    " [3.20, 2.38, 0.986],\n",
    " [3.13, 2.33, 1.054]])\n",
    "\n",
    "# K Matrix inverted\n",
    "Kinv = np.linalg.inv(K)\n",
    "# The H matrix\n",
    "H = Kinv.T\n",
    "# The RGA matrix\n",
    "RGA = np.multiply(K, H)\n",
    "\n",
    "# The SVA analysis\n",
    "detK = np.linalg.det(K)\n",
    "print('The Derminant of K will =', detK)\n",
    "\n",
    "#Given in the Problem statement\n",
    "\n",
    "# SVA / SVD decomposition\n",
    "# u = left singular matrix (columns are orthogonal)\n",
    "# s = array of singular values (ordered from largest to smallest)\n",
    "# these are the diagonal elements of\n",
    "# vT = right singular matrix (rotation)\n",
    "\n",
    "u, s, vT = np.linalg.svd(K)\n",
    "s.round(3)\n",
    "\n",
    "# Condition number\n",
    "CN = 7.196 / .004\n",
    "print('The Condition Number will =', CN)"
   ]
  },
  {
   "cell_type": "markdown",
   "metadata": {},
   "source": [
    "Looking at the Rapid Thermal processing system for microelectronics manufacturing the adjustments needed for U will be rather large because the determint of K is very small, this will lead to excessive control conditions. Because the K value is sensitive to small variations in its elements for this processing system it is also  considered poorly conditioned."
   ]
  },
  {
   "cell_type": "code",
   "execution_count": null,
   "metadata": {},
   "outputs": [],
   "source": []
  }
 ],
 "metadata": {
  "kernelspec": {
   "display_name": "Python 3",
   "language": "python",
   "name": "python3"
  },
  "language_info": {
   "codemirror_mode": {
    "name": "ipython",
    "version": 3
   },
   "file_extension": ".py",
   "mimetype": "text/x-python",
   "name": "python",
   "nbconvert_exporter": "python",
   "pygments_lexer": "ipython3",
   "version": "3.7.4"
  }
 },
 "nbformat": 4,
 "nbformat_minor": 2
}
